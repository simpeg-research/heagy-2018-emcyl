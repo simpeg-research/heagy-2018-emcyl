{
 "cells": [
  {
   "cell_type": "markdown",
   "metadata": {},
   "source": [
    "# TDEM comparison with Commer and UBC\n",
    "\n",
    "**Author:** [Lindsey Heagy](https://github.com/lheagy)\n",
    "\n",
    "This notebook runs a comparison with the steel casing example included in [Commer et al. (2015)](https://doi.org/10.1190/geo2014-0324.1) (figure 14). Commer et al. (2015) compare finite difference (FD) and finite element codes (FE). We additionally include a comparison with the 3D finite volue UBC OcTree code. The SimPEG cylindrical mesh simulation also takes a finite volume approach. This notebook was used to produce Figures 3 and 4 in Heagy and Oldenburg (2018) \n",
    "\n",
    "We thank Michael Commer and Christoph Schwarzbach for providing the published and UBC results, respectively, and for permission to distribute them with this notebook. \n",
    "\n",
    "If you encounter problems when running this notebook, please [open an issue](https://github.com/simpeg-research/heagy_2018_emcyl/issues). "
   ]
  },
  {
   "cell_type": "markdown",
   "metadata": {},
   "source": [
    "## Setup and Software environment\n",
    "\n",
    "The requirements to run this example are in [requirements.txt](../requirements.txt). Uncomment the following cell if you need to install them."
   ]
  },
  {
   "cell_type": "code",
   "execution_count": null,
   "metadata": {
    "collapsed": true
   },
   "outputs": [],
   "source": [
    "# !pip install -r ../requirements.txt"
   ]
  },
  {
   "cell_type": "code",
   "execution_count": null,
   "metadata": {
    "collapsed": true
   },
   "outputs": [],
   "source": [
    "import discretize\n",
    "from discretize import utils\n",
    "import numpy as np\n",
    "import scipy.sparse as sp\n",
    "import matplotlib.pyplot as plt\n",
    "from matplotlib.colors import LogNorm\n",
    "from scipy.constants import mu_0\n",
    "\n",
    "from SimPEG.EM import TDEM\n",
    "from SimPEG import Utils, Maps\n",
    "\n",
    "import casingSimulations as casingSim\n",
    "\n",
    "from pymatsolver import Pardiso\n",
    "\n",
    "%matplotlib inline"
   ]
  },
  {
   "cell_type": "markdown",
   "metadata": {},
   "source": [
    "## Simulation parameters"
   ]
  },
  {
   "cell_type": "code",
   "execution_count": null,
   "metadata": {
    "collapsed": true
   },
   "outputs": [],
   "source": [
    "simDir = 'TDEM_Commer_example'"
   ]
  },
  {
   "cell_type": "code",
   "execution_count": null,
   "metadata": {
    "collapsed": true
   },
   "outputs": [],
   "source": [
    "sigma_air = 3e-4\n",
    "sigma_back = 0.0333\n",
    "sigma_casing = 1e6\n",
    "\n",
    "outer_diameter = 135e-3  # 135 mm outer diameter\n",
    "casing_t = 12e-3\n",
    "\n",
    "mur_casing = 1.\n",
    "\n",
    "dipole_l = 10. \n",
    "casing_l = 200 \n",
    "\n",
    "csz = 2.5 "
   ]
  },
  {
   "cell_type": "code",
   "execution_count": null,
   "metadata": {
    "collapsed": true
   },
   "outputs": [],
   "source": [
    "src_center = np.r_[50., 1.5*np.pi, -1.25] # make sure dipole is below surface\n",
    "src_a = src_center + np.r_[dipole_l / 2., 0., 0.]\n",
    "src_b = src_center - np.r_[dipole_l / 2., 0., 0.]"
   ]
  },
  {
   "cell_type": "code",
   "execution_count": null,
   "metadata": {
    "collapsed": true
   },
   "outputs": [],
   "source": [
    "model = casingSim.model.CasingInHalfspace(\n",
    "    directory = simDir, \n",
    "    casing_d = outer_diameter - casing_t,  # I use diameter to the center of the casing wall\n",
    "    casing_l = casing_l,\n",
    "    casing_t = casing_t, \n",
    "    mur_casing = mur_casing,\n",
    "    sigma_air = sigma_air,\n",
    "    sigma_casing = sigma_casing,\n",
    "    sigma_back = sigma_back,\n",
    "    sigma_inside = sigma_back,\n",
    "    src_a = src_a,\n",
    "    src_b = src_b\n",
    ")"
   ]
  },
  {
   "cell_type": "code",
   "execution_count": null,
   "metadata": {},
   "outputs": [],
   "source": [
    "timeSteps = [\n",
    "    (1e-6, 20), (1e-5, 30), (3e-5, 30), (1e-4, 40), (3e-4, 30), (1e-3, 20), (1e-2, 17)\n",
    "]\n",
    "\n",
    "# or try more refined time-stepping\n",
    "# timeSteps = [\n",
    "#     (3e-10, 20), \n",
    "#     (1e-9, 20), (3e-9, 20), \n",
    "#     (1e-8, 20), (3e-8, 20),\n",
    "#     (1e-7, 20), (3e-7, 20),\n",
    "#     (1e-6, 20), \n",
    "#     (1e-5, 30), (3e-5, 30), \n",
    "#     (1e-4, 40), (3e-4, 30), \n",
    "#     (1e-3, 20), \n",
    "#     (1e-2, 17)\n",
    "# ]\n",
    "\n",
    "\n",
    "model.timeSteps = timeSteps\n",
    "print(model.timeSteps.sum())\n",
    "print(len(model.timeSteps))"
   ]
  },
  {
   "cell_type": "markdown",
   "metadata": {},
   "source": [
    "## Mesh"
   ]
  },
  {
   "cell_type": "code",
   "execution_count": null,
   "metadata": {},
   "outputs": [],
   "source": [
    "model.diffusion_distance(2e-1)"
   ]
  },
  {
   "cell_type": "code",
   "execution_count": null,
   "metadata": {
    "collapsed": true
   },
   "outputs": [],
   "source": [
    "hy = utils.meshTensor([(1, 2, -1.5), (1, 3), (1, 2, 1.5)])\n",
    "hy = np.r_[hy, hy]\n",
    "hy = hy*2*np.pi / hy.sum()"
   ]
  },
  {
   "cell_type": "code",
   "execution_count": null,
   "metadata": {},
   "outputs": [],
   "source": [
    "dipole_l/4"
   ]
  },
  {
   "cell_type": "code",
   "execution_count": null,
   "metadata": {
    "collapsed": true
   },
   "outputs": [],
   "source": [
    "meshGen = casingSim.mesh.CasingMeshGenerator(\n",
    "    directory = simDir, \n",
    "    modelParameters = model, \n",
    "    csx1 = model.casing_t/4,\n",
    "    csx2 = dipole_l/4, # 4 cells across the length of the dipole\n",
    "    domain_x = 300.,  # use 2.5m cells out to 300m. \n",
    "    hy = hy,\n",
    "    npadx = 15,\n",
    "    npadz = 16,\n",
    "    csz = csz,\n",
    "#     pfz = 1.5,\n",
    ")"
   ]
  },
  {
   "cell_type": "code",
   "execution_count": null,
   "metadata": {},
   "outputs": [],
   "source": [
    "print(meshGen.mesh.nC)\n",
    "ax = meshGen.mesh.plotGrid()\n",
    "# ax[0].set_rlim([50., 100.])\n",
    "# ax[1].set_ylim([])"
   ]
  },
  {
   "cell_type": "markdown",
   "metadata": {},
   "source": [
    "## Physical Properties"
   ]
  },
  {
   "cell_type": "code",
   "execution_count": null,
   "metadata": {
    "collapsed": true
   },
   "outputs": [],
   "source": [
    "physprops = casingSim.model.PhysicalProperties(\n",
    "    modelParameters=model,\n",
    "    meshGenerator=meshGen\n",
    ")"
   ]
  },
  {
   "cell_type": "code",
   "execution_count": null,
   "metadata": {},
   "outputs": [],
   "source": [
    "xlim = np.r_[-1., 1.]\n",
    "ylim = np.r_[-300., 10.]\n",
    "\n",
    "ax = physprops.plot(pcolorOpts = [{'norm':LogNorm()}, None])\n",
    "\n",
    "[a.set_xlim(xlim) for a in ax]\n",
    "[a.set_ylim(ylim) for a in ax]"
   ]
  },
  {
   "cell_type": "code",
   "execution_count": null,
   "metadata": {
    "collapsed": true
   },
   "outputs": [],
   "source": [
    "src = casingSim.sources.HorizontalElectricDipole(\n",
    "    directory=simDir, \n",
    "    modelParameters=model, \n",
    "    meshGenerator=meshGen,\n",
    ")"
   ]
  },
  {
   "cell_type": "code",
   "execution_count": null,
   "metadata": {},
   "outputs": [],
   "source": [
    "fig, ax = plt.subplots(1, 1)\n",
    "meshGen.mesh.plotGrid(slice='theta', ax=ax)\n",
    "src.plot(ax=ax)\n",
    "\n",
    "ax.set_xlim([0., 80.])\n",
    "ax.set_ylim([-10., 10.])"
   ]
  },
  {
   "cell_type": "code",
   "execution_count": null,
   "metadata": {
    "collapsed": true
   },
   "outputs": [],
   "source": [
    "sim3D = casingSim.run.SimulationTDEM(\n",
    "    directory=simDir, \n",
    "    formulation='j',\n",
    "    meshGenerator=meshGen,\n",
    "    modelParameters=model,\n",
    "    src=src, \n",
    ")"
   ]
  },
  {
   "cell_type": "markdown",
   "metadata": {},
   "source": [
    "## Run the simulation\n",
    "\n",
    "uncomment the following cell to re-run the simulation (or save the simulation files and put those along with `simulation.py` on another machine if you want to run on a cluster) \n"
   ]
  },
  {
   "cell_type": "code",
   "execution_count": null,
   "metadata": {
    "collapsed": true
   },
   "outputs": [],
   "source": [
    "# sim3D.save()\n",
    "# run TDEM_Commer_example/simulation.py"
   ]
  },
  {
   "cell_type": "markdown",
   "metadata": {},
   "source": [
    "# Load the results"
   ]
  },
  {
   "cell_type": "code",
   "execution_count": null,
   "metadata": {
    "collapsed": true
   },
   "outputs": [],
   "source": [
    "# since the length of our source is 5 cells and each cell is 5m, and we used an input current of 1,\n",
    "# we need to divide by (5/4) to have the same moment as Commer and UBC\n",
    "\n",
    "moment_correction = 1.25\n",
    "\n",
    "jx = np.load(simDir + os.path.sep + 'jx_compare.npy')/moment_correction\n",
    "ex = np.load(simDir + os.path.sep + 'ex_compare.npy')/moment_correction\n",
    "x_locs = np.load(simDir + os.path.sep + 'x.npy')"
   ]
  },
  {
   "cell_type": "code",
   "execution_count": null,
   "metadata": {
    "collapsed": true
   },
   "outputs": [],
   "source": [
    "sim = casingSim.run.SimulationTDEM(\n",
    "    directory=simDir,\n",
    "    modelParameters=simDir + os.path.sep + 'ModelParameters.json',\n",
    "    meshGenerator=simDir + os.path.sep + 'MeshParameters.json',\n",
    "    src=simDir + os.path.sep + 'Source.json',\n",
    "    fields_filename=simDir + os.path.sep + 'fields.npy'\n",
    ")"
   ]
  },
  {
   "cell_type": "code",
   "execution_count": null,
   "metadata": {},
   "outputs": [],
   "source": [
    "np.unique(sim.prob.timeMesh.h)"
   ]
  },
  {
   "cell_type": "code",
   "execution_count": null,
   "metadata": {},
   "outputs": [],
   "source": [
    "fig, ax = plt.subplots(1, 1, figsize=(7, 4), dpi=300)\n",
    "\n",
    "for ind in range(ex.shape[0]):\n",
    "    ax.loglog(sim3D.prob.times, np.abs(ex[ind, :]), label=\"{:1.1f}m\".format(x_locs[ind]))\n",
    "    ax.set_xlim(1e-4, 2e-1)\n",
    "    ax.grid(which='both', alpha=0.4)\n",
    "ax.legend()"
   ]
  },
  {
   "cell_type": "markdown",
   "metadata": {},
   "source": [
    "# Load Commer results"
   ]
  },
  {
   "cell_type": "code",
   "execution_count": null,
   "metadata": {
    "collapsed": true
   },
   "outputs": [],
   "source": [
    "commer_file = os.path.sep.join([simDir, 'CommerResults', 'fefd.data'])\n",
    "\n",
    "f = open(commer_file)\n",
    "lines = f.readlines()\n",
    "f.close()\n",
    "\n",
    "x_locs_commer = np.r_[5, 11, 51, 101, 151, 201, 251, 301]"
   ]
  },
  {
   "cell_type": "code",
   "execution_count": null,
   "metadata": {
    "collapsed": true
   },
   "outputs": [],
   "source": [
    "commer_data = [l.rstrip() for l in lines if not l.startswith(\"#\") ]\n",
    "commer_dat = []\n",
    "\n",
    "dat = []\n",
    "for l in commer_data:\n",
    "#     print(l)\n",
    "    if l != '':\n",
    "        dat.append(np.array(l.split(' ')).astype(float))\n",
    "    elif l == '':\n",
    "        if dat != []:\n",
    "            commer_dat.append(np.vstack(dat))\n",
    "            dat = []\n",
    "\n",
    "# commer_data = dat"
   ]
  },
  {
   "cell_type": "markdown",
   "metadata": {},
   "source": [
    "# Load UBC results"
   ]
  },
  {
   "cell_type": "code",
   "execution_count": null,
   "metadata": {
    "collapsed": true
   },
   "outputs": [],
   "source": [
    "ubc_filename = os.path.sep.join([simDir, 'ubc_135mm_1e-2.txt'])\n",
    "f = open(ubc_filename)\n",
    "lines = f.readlines()\n",
    "f.close()"
   ]
  },
  {
   "cell_type": "code",
   "execution_count": null,
   "metadata": {
    "collapsed": true
   },
   "outputs": [],
   "source": [
    "ubc_data = [l.rstrip() for l in lines if not l.startswith(\"%\") ]\n",
    "x_locs_ubc = [4.8, 10.5, 100, 200, 300]"
   ]
  },
  {
   "cell_type": "code",
   "execution_count": null,
   "metadata": {
    "collapsed": true
   },
   "outputs": [],
   "source": [
    "ubc_dat = []\n",
    "dat = []\n",
    "for l in ubc_data:\n",
    "    if l != '':\n",
    "        line = l.split(' ')\n",
    "        line = [entry for entry in line if entry != '']\n",
    "        dat.append(np.array(line).astype(float))\n",
    "#         print(dat)\n",
    "\n",
    "ubc_dat = np.vstack(dat)"
   ]
  },
  {
   "cell_type": "markdown",
   "metadata": {},
   "source": [
    "# Plot Comparison"
   ]
  },
  {
   "cell_type": "code",
   "execution_count": null,
   "metadata": {
    "collapsed": true
   },
   "outputs": [],
   "source": [
    "y_locs = np.r_[np.pi/2.]\n",
    "z_locs = np.r_[sim.src.src_a[2]]\n",
    "points = Utils.closestPoints(\n",
    "    sim.meshGenerator.mesh, Utils.ndgrid(x_locs, y_locs, z_locs), 'Fx'\n",
    ")\n",
    "x_locs_SimPEG = mesh.gridFx[points, 0]"
   ]
  },
  {
   "cell_type": "code",
   "execution_count": null,
   "metadata": {},
   "outputs": [],
   "source": [
    "x_locs_SimPEG"
   ]
  },
  {
   "cell_type": "code",
   "execution_count": null,
   "metadata": {},
   "outputs": [],
   "source": [
    "fig, ax = plt.subplots(1, 1, figsize=(7, 4), dpi=200)\n",
    "\n",
    "inds_compare = [0, 1, 3, 5, 7]\n",
    "for i, ind in enumerate(inds_compare):\n",
    "\n",
    "    ax.loglog(\n",
    "        sim3D.prob.times, np.abs(ex[ind, :]),\n",
    "        \"C{}\".format(i), lw=1,\n",
    "        label=\"SimPEG {:1.1f}m\".format(x_locs_SimPEG[ind]),\n",
    "    )\n",
    "    ax.loglog(\n",
    "        commer_dat[ind][:, 0], np.absolute(commer_dat[ind][:, 1]), \"C{}--\".format(i), lw=1,\n",
    "        label=\"Commer FE {:1.1f}m\".format(x_locs_commer[ind])\n",
    "    )\n",
    "    ax.loglog(\n",
    "        commer_dat[ind][:, 0], np.absolute(commer_dat[ind][:, 2]), \"C{}:\".format(i), lw=1,\n",
    "        label=\"Commer FD {:1.1f}m\".format(x_locs_commer[ind])\n",
    "    )\n",
    "    ax.loglog(\n",
    "        ubc_dat[:, 0], np.absolute(ubc_dat[:, i+1]), \"C{}-.\".format(i), lw=1,\n",
    "        label=\"UBC FV {:1.1f}m\".format(x_locs_ubc[i])\n",
    "    )\n",
    "    ax.set_xlim(2e-4, 2e-1)\n",
    "    ax.set_ylim(1e-10, 3e-4)\n",
    "    ax.grid(which='both', alpha=0.4)\n",
    "ax.legend(bbox_to_anchor=(1.02, 1), loc=2, borderaxespad=0., fontsize=7)\n",
    "ax.set_xlabel('time (s)')\n",
    "ax.set_ylabel('radial E (V/m)')"
   ]
  },
  {
   "cell_type": "code",
   "execution_count": null,
   "metadata": {
    "collapsed": true
   },
   "outputs": [],
   "source": [
    "# fig.savefig('Commer_comparison')"
   ]
  },
  {
   "cell_type": "code",
   "execution_count": null,
   "metadata": {
    "collapsed": true
   },
   "outputs": [],
   "source": []
  }
 ],
 "metadata": {
  "kernelspec": {
   "display_name": "Python 2",
   "language": "python",
   "name": "python2"
  },
  "language_info": {
   "codemirror_mode": {
    "name": "ipython",
    "version": 2
   },
   "file_extension": ".py",
   "mimetype": "text/x-python",
   "name": "python",
   "nbconvert_exporter": "python",
   "pygments_lexer": "ipython2",
   "version": "2.7.11"
  }
 },
 "nbformat": 4,
 "nbformat_minor": 2
}
